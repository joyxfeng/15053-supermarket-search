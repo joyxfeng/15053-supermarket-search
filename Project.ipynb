{
 "cells": [
  {
   "cell_type": "code",
   "execution_count": 11,
   "metadata": {},
   "outputs": [],
   "source": [
    "using JuMP\n",
    "using Gurobi\n",
    "using CSV"
   ]
  },
  {
   "cell_type": "code",
   "execution_count": 13,
   "metadata": {},
   "outputs": [
    {
     "ename": "MethodError",
     "evalue": "MethodError: no method matching getindex(::typeof(sum), ::UnitRange{Int64})",
     "output_type": "error",
     "traceback": [
      "MethodError: no method matching getindex(::typeof(sum), ::UnitRange{Int64})",
      "",
      "Stacktrace:",
      " [1] top-level scope at /Users/Programming/.julia/packages/JuMP/PbnIJ/src/macros.jl:493",
      " [2] top-level scope at In[13]:13"
     ]
    }
   ],
   "source": [
    "model = Model(solver=GurobiSolver(Presolve=0))\n",
    "\n",
    "\n",
    "simple_dist = CSV.read(\"distmatrix_simple.csv\", header = true)\n",
    "data = CSV.read(\"supermarket_data.csv\", header = true)\n",
    "#cost = 2 cols, 101 rows [2][1:101]\n",
    "\n",
    "\n",
    "@variable(model, x[1:101], Bin)\n",
    "\n",
    "\n",
    "@constraint(model, x[1] == 1)\n",
    "\n",
    "@constraint(model, sum[2:101] <= 15)\n",
    "\n",
    "#@constraint(model, 2*sum(x[2:101])+)\n",
    "@objective(model, Max, sum(data[2][i]*x[i] for i=1:101))\n",
    "\n",
    "print(model)\n",
    "solve(model)\n"
   ]
  },
  {
   "cell_type": "code",
   "execution_count": null,
   "metadata": {},
   "outputs": [],
   "source": []
  },
  {
   "cell_type": "code",
   "execution_count": null,
   "metadata": {},
   "outputs": [],
   "source": []
  }
 ],
 "metadata": {
  "kernelspec": {
   "display_name": "Julia 1.1.0",
   "language": "julia",
   "name": "julia-1.1"
  },
  "language_info": {
   "file_extension": ".jl",
   "mimetype": "application/julia",
   "name": "julia",
   "version": "1.1.0"
  }
 },
 "nbformat": 4,
 "nbformat_minor": 2
}
