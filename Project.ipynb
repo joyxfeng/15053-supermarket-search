{
 "cells": [
  {
   "cell_type": "code",
   "execution_count": 8,
   "metadata": {},
   "outputs": [],
   "source": [
    "using JuMP\n",
    "using Gurobi\n",
    "using CSV"
   ]
  },
  {
   "cell_type": "code",
   "execution_count": 9,
   "metadata": {},
   "outputs": [
    {
     "name": "stdout",
     "output_type": "stream",
     "text": [
      "Max 92 x[1] + 92 x[2] + 92 x[3] + 92 x[4] + 92 x[5] + 92 x[6] + 92 x[7] + 92 x[8] + 92 x[9] + 92 x[10] + 92 x[11] + 92 x[12] + 92 x[13] + 92 x[14] + 92 x[15] + 92 x[16]\n",
      "Subject to\n",
      " 42 x[1] + 42 x[2] + 42 x[3] + 42 x[4] + 42 x[5] + 42 x[6] + 42 x[7] + 42 x[8] + 42 x[9] + 42 x[10] + 42 x[11] + 42 x[12] + 42 x[13] + 42 x[14] + 42 x[15] + 42 x[16] ≤ 1.0e7\n",
      " x[i] ∈ {0,1} ∀ i ∈ {1,2,…,15,16}\n",
      "Academic license - for non-commercial use only\n",
      "Optimize a model with 1 rows, 16 columns and 16 nonzeros\n",
      "Variable types: 0 continuous, 16 integer (16 binary)\n",
      "Coefficient statistics:\n",
      "  Matrix range     [4e+01, 4e+01]\n",
      "  Objective range  [9e+01, 9e+01]\n",
      "  Bounds range     [1e+00, 1e+00]\n",
      "  RHS range        [1e+07, 1e+07]\n",
      "Found heuristic solution: objective 1472.0000000\n",
      "\n",
      "Explored 0 nodes (0 simplex iterations) in 0.00 seconds\n",
      "Thread count was 1 (of 4 available processors)\n",
      "\n",
      "Solution count 1: 1472 \n",
      "\n",
      "Optimal solution found (tolerance 1.00e-04)\n",
      "Best objective 1.472000000000e+03, best bound 1.472000000000e+03, gap 0.0000%\n"
     ]
    },
    {
     "data": {
      "text/plain": [
       ":Optimal"
      ]
     },
     "execution_count": 9,
     "metadata": {},
     "output_type": "execute_result"
    }
   ],
   "source": [
    "model = Model(solver=GurobiSolver(Presolve=0))\n",
    "\n",
    "\n",
    "data = CSV.read(\"\", header = true)\n",
    "\n",
    "\n",
    "@variable(model, x[1:101], Bin)\n",
    "\n",
    "\n",
    "\n",
    "@constraint(model, sum(42*x[i] for i=1:16) <= 10000000)\n",
    "\n",
    "@objective(model, Max, sum(92*x[i] for i=1:16))\n",
    "\n",
    "print(model)\n",
    "solve(model)\n"
   ]
  },
  {
   "cell_type": "code",
   "execution_count": null,
   "metadata": {},
   "outputs": [],
   "source": []
  },
  {
   "cell_type": "code",
   "execution_count": null,
   "metadata": {},
   "outputs": [],
   "source": []
  }
 ],
 "metadata": {
  "kernelspec": {
   "display_name": "Julia 1.1.0",
   "language": "julia",
   "name": "julia-1.1"
  },
  "language_info": {
   "file_extension": ".jl",
   "mimetype": "application/julia",
   "name": "julia",
   "version": "1.1.0"
  }
 },
 "nbformat": 4,
 "nbformat_minor": 2
}
