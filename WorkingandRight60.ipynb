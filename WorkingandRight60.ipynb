{
 "cells": [
  {
   "cell_type": "code",
   "execution_count": 1,
   "metadata": {},
   "outputs": [],
   "source": [
    "using JuMP\n",
    "using Cbc\n",
    "using DataFrames\n",
    "using Gurobi\n",
    "using CSV"
   ]
  },
  {
   "cell_type": "code",
   "execution_count": 10,
   "metadata": {},
   "outputs": [
    {
     "name": "stdout",
     "output_type": "stream",
     "text": [
      "Academic license - for non-commercial use only\n",
      "Optimize a model with 21053 rows, 21012 columns and 92962 nonzeros\n",
      "Variable types: 10506 continuous, 10506 integer (10506 binary)\n",
      "Coefficient statistics:\n",
      "  Matrix range     [1e+00, 9e+01]\n",
      "  Objective range  [9e-01, 3e+01]\n",
      "  Bounds range     [1e+00, 1e+00]\n",
      "  RHS range        [1e+00, 2e+01]\n",
      "Found heuristic solution: objective 16.1700000\n",
      "Presolve removed 13425 rows and 13448 columns\n",
      "Presolve time: 0.34s\n",
      "Presolved: 7628 rows, 7564 columns, 33794 nonzeros\n",
      "Variable types: 3721 continuous, 3843 integer (3843 binary)\n",
      "\n",
      "Root relaxation: objective 1.188469e+02, 3692 iterations, 0.36 seconds\n",
      "\n",
      "    Nodes    |    Current Node    |     Objective Bounds      |     Work\n",
      " Expl Unexpl |  Obj  Depth IntInf | Incumbent    BestBd   Gap | It/Node Time\n",
      "\n",
      "     0     0  118.84691    0   40   16.17000  118.84691   635%     -    0s\n",
      "H    0     0                      71.9000000  118.84691  65.3%     -    0s\n",
      "H    0     0                     117.3400000  118.84691  1.28%     -    1s\n",
      "\n",
      "Explored 1 nodes (3695 simplex iterations) in 1.53 seconds\n",
      "Thread count was 4 (of 4 available processors)\n",
      "\n",
      "Solution count 3: 117.34 71.9 16.17 \n",
      "\n",
      "Optimal solution found (tolerance 1.00e-01)\n",
      "Best objective 1.173400000000e+02, best bound 1.188400000000e+02, gap 1.2783%\n"
     ]
    },
    {
     "data": {
      "text/plain": [
       ":Optimal"
      ]
     },
     "execution_count": 10,
     "metadata": {},
     "output_type": "execute_result"
    }
   ],
   "source": [
    "m = Model(solver=GurobiSolver(MIPGap=.1))\n",
    "#not taken items (randomly generated)\n",
    "ntaken = [7, 9, 12, 13, 15, 21, 24, 27, 28, 29, 34, 40, 43, 44, 45, 47, 48, 50, 59, 64, 67, 68, 74, 76, 78, 79, 82, 83, 84, 85, 86, 87, 88, 89, 92, 93, 97, 98, 101]\n",
    "data = CSV.read(\"supermarket_data.csv\")\n",
    "simple_dist = CSV.read(\"distmatrix_simple.csv\")\n",
    "\n",
    "v = data[:,2]\n",
    "\n",
    "simple_dist = simple_dist[:,2:103]\n",
    "c = simple_dist\n",
    "    \n",
    "@variables m begin\n",
    "    y[1:102], Bin # 1 if item i is taken\n",
    "end\n",
    "\n",
    "@variables m begin\n",
    "    x[1:102,1:102], Bin # 1 if direct path betweeen i and j\n",
    "end\n",
    "\n",
    "@variables m begin\n",
    "    z[1:102]\n",
    "end\n",
    "\n",
    "@variables m begin\n",
    "    t[1:102,1:102]\n",
    "end\n",
    "\n",
    "@constraint(m, y[1] == 1)\n",
    "@constraint(m, y[102] == 1)\n",
    "@constraint(m, z[1] == 0)\n",
    "@constraint(m, sum(y[i] for i in 2:101) <= 15)\n",
    "@constraint(m, sum(x[i,1] for i in 1:102) == 0)\n",
    "@constraint(m, sum(x[102,j] for j in 1:102) == 0)\n",
    "\n",
    "for i in ntaken\n",
    "    @constraint(m, y[i] == 0)\n",
    "end\n",
    "\n",
    "for i in 1:101\n",
    "    @constraint(m, sum(x[i,j] for j in 2:102) == y[i])\n",
    "end\n",
    "\n",
    "for j in 2:102\n",
    "    @constraint(m, sum(x[i,j] for i in 1:101) == y[j])\n",
    "end\n",
    "\n",
    "for j in 2:102\n",
    "    @constraint(m, sum(t[i,j] for i in 1:101) == z[j])\n",
    "end\n",
    "\n",
    "for j in 1:101\n",
    "    @constraint(m, sum(t[j,k] for k in 2:102) == (z[j] + sum(c[j,k]x[j,k] for k in 2:102)))\n",
    "end\n",
    "\n",
    "for j in 1:102\n",
    "    for k in 2:102\n",
    "        @constraint(m, t[j,k] >= x[j,k])\n",
    "        @constraint(m, t[j,k] <= 90x[j,k])\n",
    "    end\n",
    "end\n",
    "\n",
    "@objective(m, Max, sum(v[i]*y[i] for i in 1:102))\n",
    "\n",
    "solve(m)"
   ]
  },
  {
   "cell_type": "code",
   "execution_count": 12,
   "metadata": {},
   "outputs": [
    {
     "name": "stdout",
     "output_type": "stream",
     "text": [
      "Items Taken (In Order):\n",
      "Coffee Beans(Item #: 1, Price: 6.99)\n",
      "K-Cups(Item #: 2, Price: 10.99)\n",
      "Granola(Item #: 7, Price: 5.49)\n",
      "Olive Oil(Item #: 9, Price: 6.99)\n",
      "Salami(Item #: 89, Price: 5.99)\n",
      "Chicken Breast(Item #: 90, Price: 6.98)\n",
      "Shampoo(Item #: 40, Price: 8.99)\n",
      "Toilet Paper(Item #: 41, Price: 7.99)\n",
      "Glaceau SmartWater(Item #: 69, Price: 6.99)\n",
      "Salmon(Item #: 95, Price: 5.99)\n",
      "Air Freshner(Item #: 55, Price: 6.99)\n",
      "Swiffer Refills(Item #: 53, Price: 7.99)\n",
      "Broom(Item #: 51, Price: 13.99)\n",
      "Redbull (4)(Item #: 61, Price: 7.99)\n",
      "Gatorade (12)(Item #: 60, Price: 6.99)\n",
      "\n",
      "Objective Value: 117.33999999999997\n",
      "Total Time: 90.0\n"
     ]
    }
   ],
   "source": [
    "println(\"Items Taken (In Order):\")\n",
    "cnode = 1\n",
    "while cnode != 102\n",
    "    for i in 1:102\n",
    "        if getvalue(x[cnode,i]) == 1\n",
    "            cnode = i\n",
    "            if cnode != 102\n",
    "                println(data[cnode,1], \"(Item #: \",  cnode - 1, \", \", \"Price: \", data[cnode,2] , \")\")\n",
    "            end\n",
    "            break\n",
    "        end\n",
    "    end\n",
    "end\n",
    "\n",
    "println(\"\")\n",
    "\n",
    "println(\"Objective Value: \", getobjectivevalue(m))\n",
    "\n",
    "println(\"Total Time: \", getvalue(z[102]))"
   ]
  },
  {
   "cell_type": "code",
   "execution_count": null,
   "metadata": {},
   "outputs": [],
   "source": []
  }
 ],
 "metadata": {
  "kernelspec": {
   "display_name": "Julia 1.1.0",
   "language": "julia",
   "name": "julia-1.1"
  },
  "language_info": {
   "file_extension": ".jl",
   "mimetype": "application/julia",
   "name": "julia",
   "version": "1.1.0"
  }
 },
 "nbformat": 4,
 "nbformat_minor": 2
}
