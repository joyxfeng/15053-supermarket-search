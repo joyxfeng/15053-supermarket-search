{
 "cells": [
  {
   "cell_type": "code",
   "execution_count": 1,
   "metadata": {},
   "outputs": [],
   "source": [
    "using JuMP\n",
    "using DataFrames\n",
    "using Gurobi\n",
    "using CSV"
   ]
  },
  {
   "cell_type": "code",
   "execution_count": 8,
   "metadata": {},
   "outputs": [
    {
     "name": "stdout",
     "output_type": "stream",
     "text": [
      "Academic license - for non-commercial use only\n",
      "Optimize a model with 21014 rows, 21012 columns and 92923 nonzeros\n",
      "Variable types: 10506 continuous, 10506 integer (10506 binary)\n",
      "Coefficient statistics:\n",
      "  Matrix range     [1e+00, 9e+01]\n",
      "  Objective range  [9e-01, 3e+01]\n",
      "  Bounds range     [1e+00, 1e+00]\n",
      "  RHS range        [1e+00, 2e+01]\n",
      "Found heuristic solution: objective 16.1700000\n",
      "Presolve removed 711 rows and 749 columns\n",
      "Presolve time: 0.55s\n",
      "Presolved: 20303 rows, 20263 columns, 90689 nonzeros\n",
      "Variable types: 10000 continuous, 10263 integer (10263 binary)\n",
      "\n",
      "Root relaxation: objective 1.629900e+02, 2095 iterations, 0.37 seconds\n",
      "\n",
      "    Nodes    |    Current Node    |     Objective Bounds      |     Work\n",
      " Expl Unexpl |  Obj  Depth IntInf | Incumbent    BestBd   Gap | It/Node Time\n",
      "\n",
      "     0     0  162.94956    0   36   16.17000  162.94956   908%     -    6s\n",
      "H    0     0                     102.9100000  162.94956  58.3%     -    6s\n",
      "H    0     0                     157.2900000  162.94956  3.60%     -   11s\n",
      "\n",
      "Explored 1 nodes (23214 simplex iterations) in 11.04 seconds\n",
      "Thread count was 4 (of 4 available processors)\n",
      "\n",
      "Solution count 3: 157.29 102.91 16.17 \n",
      "\n",
      "Optimal solution found (tolerance 1.00e-01)\n",
      "Best objective 1.572900000000e+02, best bound 1.629400000000e+02, gap 3.5921%\n"
     ]
    },
    {
     "data": {
      "text/plain": [
       ":Optimal"
      ]
     },
     "execution_count": 8,
     "metadata": {},
     "output_type": "execute_result"
    }
   ],
   "source": [
    "m = Model(solver=GurobiSolver(MIPGap=.1))\n",
    "\n",
    "#Read in the data\n",
    "data = CSV.read(\"supermarket_data.csv\")\n",
    "simple_dist = CSV.read(\"distmatrix_simple.csv\")\n",
    "\n",
    "#Puts the data into an array\n",
    "v = data[:,2]\n",
    "\n",
    "#Puts distance into an array\n",
    "simple_dist = simple_dist[:,2:103]\n",
    "c = simple_dist\n",
    "    \n",
    "@variables m begin\n",
    "    y[1:102], Bin # 1 if item i is taken\n",
    "end\n",
    "\n",
    "@variables m begin\n",
    "    x[1:102,1:102], Bin # 1 if direct path betweeen i and j\n",
    "end\n",
    "\n",
    "@variables m begin\n",
    "    z[1:102] #total time to j if item j is picked up\n",
    "end\n",
    "\n",
    "@variables m begin\n",
    "    t[1:102,1:102]  #total time to j if path i,j is in the optimal solution\n",
    "end\n",
    "\n",
    "@constraint(m, y[1] == 1)  #We start at y[1]\n",
    "@constraint(m, y[102] == 1)  #We must end at the start node\n",
    "@constraint(m, z[1] == 0)    #time from the first node is 0\n",
    "@constraint(m, sum(y[i] for i in 2:101) <= 15)  #We can take at most 15 items\n",
    "@constraint(m, sum(x[i,1] for i in 1:102) == 0)  #The start node is the beginning path\n",
    "@constraint(m, sum(x[102,j] for j in 1:102) == 0)  #The start node is the ending path\n",
    "\n",
    "for i in 1:101\n",
    "    @constraint(m, sum(x[i,j] for j in 2:102) == y[i]) # For each node that is included in the path (except for the end node), there is another node that directly follows it.\n",
    "end\n",
    "\n",
    "for j in 2:102\n",
    "    @constraint(m, sum(x[i,j] for i in 1:101) == y[j])  #For each node that is included in the path (except for the start node), there is another node that directly precedes it\n",
    "end\n",
    "\n",
    "for j in 2:102\n",
    "    @constraint(m, sum(t[i,j] for i in 1:101) == z[j])  #Establishes  the  relationship  between tij and zj,  as discussed in our description of decision variables for all nodes except for the start node.\n",
    "end\n",
    "\n",
    "for j in 1:101\n",
    "    @constraint(m, sum(t[j,k] for k in 2:102) == (z[j] + sum(c[j,k]x[j,k] for k in 2:102)))  #The total distance from the start node to another node (k) on the path is equal to the distance to the preceding node (j) inthe path plus the distance from j to the next node (k), for all nodes j except for the end node.\n",
    "end\n",
    "\n",
    "\n",
    "# If the direct path between two nodes is taken,the total \n",
    "#distance from the start node to the second node in this \n",
    "#direct path is at most 90.  In other words, the entire path can take a maximum of 90 seconds.\n",
    "for j in 1:102\n",
    "    for k in 2:102\n",
    "        @constraint(m, t[j,k] >= x[j,k])\n",
    "        @constraint(m, t[j,k] <= 90x[j,k])\n",
    "    end\n",
    "end\n",
    "\n",
    "@objective(m, Max, sum(v[i]*y[i] for i in 1:102))\n",
    "\n",
    "solve(m)"
   ]
  },
  {
   "cell_type": "code",
   "execution_count": 24,
   "metadata": {},
   "outputs": [
    {
     "name": "stdout",
     "output_type": "stream",
     "text": [
      "Items Taken (In Order):\n",
      "K-Cups(Item #: 2, Price: 10.99)\n",
      "Coffee Beans(Item #: 1, Price: 6.99)\n",
      "Diapers(Item #: 33, Price: 25.99)\n",
      "Advil(Item #: 36, Price: 6.29)\n",
      "Shampoo(Item #: 40, Price: 8.99)\n",
      "Steak(Item #: 91, Price: 7.13)\n",
      "Bacon(Item #: 92, Price: 7.99)\n",
      "Toilet Paper(Item #: 41, Price: 7.99)\n",
      "Roses (12)(Item #: 100, Price: 12.99)\n",
      "Pizza (12\")(Item #: 84, Price: 8.99)\n",
      "Lasagna(Item #: 82, Price: 9.99)\n",
      "Taquitos(Item #: 79, Price: 6.99)\n",
      "Broom(Item #: 51, Price: 13.99)\n",
      "Detergent(Item #: 49, Price: 12.99)\n",
      "Trash Bags(Item #: 47, Price: 8.99)\n",
      "\n",
      "Objective Value: 157.29\n",
      "Total Time: 90.0\n"
     ]
    }
   ],
   "source": [
    "println(\"Items Taken (In Order):\")\n",
    "cnode = 1\n",
    "while cnode != 102\n",
    "    for i in 1:102\n",
    "        if getvalue(x[cnode,i]) == 1\n",
    "            cnode = i\n",
    "            if cnode != 102\n",
    "                println(data[cnode,1], \"(Item #: \",  cnode - 1, \", \", \"Price: \", data[cnode,2] , \")\")\n",
    "            end\n",
    "            break\n",
    "        end\n",
    "    end\n",
    "end\n",
    "\n",
    "println(\"\")\n",
    "\n",
    "println(\"Objective Value: \", getobjectivevalue(m))\n",
    "\n",
    "println(\"Total Time: \", getvalue(z[102]))"
   ]
  },
  {
   "cell_type": "code",
   "execution_count": null,
   "metadata": {},
   "outputs": [],
   "source": []
  }
 ],
 "metadata": {
  "kernelspec": {
   "display_name": "Julia 1.1.0",
   "language": "julia",
   "name": "julia-1.1"
  },
  "language_info": {
   "file_extension": ".jl",
   "mimetype": "application/julia",
   "name": "julia",
   "version": "1.1.0"
  }
 },
 "nbformat": 4,
 "nbformat_minor": 2
}
