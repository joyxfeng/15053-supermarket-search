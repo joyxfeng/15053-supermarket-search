{
 "cells": [
  {
   "cell_type": "code",
   "execution_count": 3,
   "metadata": {},
   "outputs": [],
   "source": [
    "using JuMP\n",
    "using Cbc\n",
    "using DataFrames"
   ]
  },
  {
   "cell_type": "code",
   "execution_count": null,
   "metadata": {},
   "outputs": [],
   "source": [
    "m = Model(solver = CbcSolver())\n",
    "\n",
    "data = readtable(\"supermarket_data.csv\")\n",
    "simple_dist = readtable(\"distmatrix_simple.csv\")\n",
    "\n",
    "v = data[:,2]\n",
    "\n",
    "simple_dist = simple_dist[:,2:103]\n",
    "c = simple_dist\n",
    "    \n",
    "@variables m begin\n",
    "    y[1:102], Bin\n",
    "end\n",
    "\n",
    "@variables m begin\n",
    "    x[1:102,1:102], Bin\n",
    "end\n",
    "\n",
    "@variables m begin\n",
    "    z[1:102]\n",
    "end\n",
    "\n",
    "@variables m begin\n",
    "    t[1:102,1:102]\n",
    "end\n",
    "\n",
    "@constraint(m, y[1] == 1)\n",
    "@constraint(m, y[102] == 1)\n",
    "@constraint(m, z[1] == 0)\n",
    "@constraint(m, sum(y[i] for i in 2:101) <= 15)\n",
    "\n",
    "for i in 1:101\n",
    "    @constraint(m, sum(x[i,j] for j in 1:102) == y[i])\n",
    "end\n",
    "\n",
    "for j in 2:102\n",
    "    @constraint(m, sum(x[i,j] for i in 1:102) == y[j])\n",
    "end\n",
    "\n",
    "for j in 2:102\n",
    "    @constraint(m, sum(t[i,j] for i in 1:102) == z[j])\n",
    "end\n",
    "\n",
    "for j in 1:101\n",
    "    @constraint(m, sum(t[j,k] for k in 1:102) == (z[j] + sum(c[j,k]x[j,k] for k in 1:102)))\n",
    "end\n",
    "\n",
    "for j in 1:101\n",
    "    for k in 1:102\n",
    "        @constraint(m, t[j,k] >= 0)\n",
    "        @constraint(m, t[j,k] <= 90x[j,k])\n",
    "    end\n",
    "end\n",
    "\n",
    "@objective(m, Max, sum(v[i]*y[i] for i in 1:102))\n",
    "\n",
    "print(m)\n",
    "solve(m)"
   ]
  }
 ],
 "metadata": {
  "kernelspec": {
   "display_name": "Julia 1.1.0",
   "language": "julia",
   "name": "julia-1.1"
  },
  "language_info": {
   "file_extension": ".jl",
   "mimetype": "application/julia",
   "name": "julia",
   "version": "1.1.0"
  }
 },
 "nbformat": 4,
 "nbformat_minor": 2
}
