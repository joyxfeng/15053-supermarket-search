{
 "cells": [
  {
   "cell_type": "markdown",
   "metadata": {},
   "source": [
    "# Supermarket Search Problem  \n",
    "15.053 - Optimization Methods in Business Analytics  \n",
    "Spring 2019  \n",
    "Joy Feng, Jason Lu, Pranit Nanda, Wendy Yin"
   ]
  },
  {
   "cell_type": "markdown",
   "metadata": {},
   "source": [
    "#### Version 1 of the Problem\n",
    "Goal: maximize the total value of items picked up by the shopper.    \n",
    "Information provided: each item’s name, monetary value, and X and Y coordinates within the store aisles.  \n",
    "- The shopper has a 90-second window of time to collect items. They must begin at a specified start point location in the store, and must return to that point when the time limit is up.  \n",
    "- The shopper can include at most 15 items in their cart.  \n",
    "- Assume that the shopper moves at a speed of 10 feet per second, and takes 2 seconds to pick up an item and place it in the cart.\n",
    "- The shopper must take one continuous path through the store. "
   ]
  },
  {
   "cell_type": "markdown",
   "metadata": {},
   "source": [
    "#### Version 2 of the Problem \n",
    "Same goal, just with a few tweaks to the rules:\n",
    "- The shopper can return to the start point at any time to empty their cart out. When the cart is emptied, the value of each item is added to the shopper’s winnings.\n",
    "- The shopper is given 180 seconds.\n",
    "- The shopper needs to beon the lookout! There are two nasty spills in Aisle 2 (at 10 ft, 45 ft) and Aisle 10 (at 90 ft, 85 ft). Your formulation must prevent the shopper from crossing over either of those spills.\n",
    "- On the bright side, there are also two passages between aisles (both at Y-coordinate 55 ft)! One connects Aisles 3 and 4, and the other connects Aisles 8 and 9. It is a viable option for the shopper to pass through these."
   ]
  },
  {
   "cell_type": "code",
   "execution_count": null,
   "metadata": {},
   "outputs": [],
   "source": []
  }
 ],
 "metadata": {
  "kernelspec": {
   "display_name": "Julia 1.1.0",
   "language": "julia",
   "name": "julia-1.1"
  },
  "language_info": {
   "file_extension": ".jl",
   "mimetype": "application/julia",
   "name": "julia",
   "version": "1.1.0"
  }
 },
 "nbformat": 4,
 "nbformat_minor": 2
}
